{
 "cells": [
  {
   "cell_type": "markdown",
   "metadata": {},
   "source": [
    "# A guide to run a financial simulation using the LLM agent acting as CEO "
   ]
  },
  {
   "cell_type": "code",
   "execution_count": 35,
   "metadata": {},
   "outputs": [],
   "source": [
    "### imports \n",
    "\n",
    "### config python file to start a simulation on FTX exchange scenario\n",
    "from simulator.agents import Agent\n",
    "from simulator.core import Simulation\n",
    "from simulator.utils import StaticPromptsGenerator\n",
    "from simulator import utils\n",
    "import pandas as pd \n",
    "\n",
    "from simconfig import base_config\n",
    "from simulator.logging import logger\n"
   ]
  },
  {
   "cell_type": "code",
   "execution_count": null,
   "metadata": {},
   "outputs": [],
   "source": [
    "import os\n",
    "cur_dir = os.getcwd() \n",
    "os.chdir(cur_dir.replace(\"notebooks\", \"\"))\n",
    "print(os.getcwd())"
   ]
  },
  {
   "cell_type": "code",
   "execution_count": null,
   "metadata": {},
   "outputs": [],
   "source": [
    "%load_ext autoreload\n",
    "%autoreload 2"
   ]
  },
  {
   "cell_type": "markdown",
   "metadata": {},
   "source": [
    "### Note that the logs tracks all the simulation activities (prompts, logs, and llm input/output)\n",
    "\n",
    "The simulation will create three logs: \n",
    "```\n",
    "── simulation_results_llm.json\n",
    "── simulation_results_logs.json\n",
    "── simulation_results_prompts.json\n",
    "```\n",
    "\n",
    "\n",
    "But we can also setup an dictionary to track only the parameters we change as input (e.g., risk-AVERSION) and output (e.g., trades)"
   ]
  },
  {
   "cell_type": "code",
   "execution_count": 38,
   "metadata": {},
   "outputs": [],
   "source": [
    "##################### OPTIONAL ############################ \n",
    "# The logs are saved in the logs folder with all the information about the simulation, this is just a more simple and clean way to see the results\n",
    "from collections import defaultdict\n",
    "results_dict = defaultdict(str)\n",
    "##################### OPTIONAL ############################\n"
   ]
  },
  {
   "cell_type": "markdown",
   "metadata": {},
   "source": [
    "### Let's create the simulation builder first"
   ]
  },
  {
   "cell_type": "code",
   "execution_count": 39,
   "metadata": {},
   "outputs": [],
   "source": [
    "from simulator.core import SimulationBuilder\n",
    "\n",
    "## create the simulation here, which we fill with default and ad-hoc parameters.\n",
    "## Seed : control the randomness of the simulation\n",
    "simulation_builder = SimulationBuilder(seed=42, verbose=False)\n"
   ]
  },
  {
   "cell_type": "markdown",
   "metadata": {},
   "source": [
    "#### Most of the environment, agent settings and prompts are defined by default in the src/config files."
   ]
  },
  {
   "cell_type": "code",
   "execution_count": null,
   "metadata": {},
   "outputs": [],
   "source": [
    "## Load config for Environment and basic agents\n",
    "config_data = simulation_builder.sim_config_data\n",
    "config_data"
   ]
  },
  {
   "cell_type": "code",
   "execution_count": null,
   "metadata": {},
   "outputs": [],
   "source": [
    "## for example all the agents the config are defines as follows \n",
    "config_data[\"agents\"].keys()"
   ]
  },
  {
   "cell_type": "code",
   "execution_count": null,
   "metadata": {},
   "outputs": [],
   "source": [
    "## And each agent has some details, about recurrent actions and attributes\n",
    "config_data[\"agents\"][\"trading_branch\"]"
   ]
  },
  {
   "cell_type": "markdown",
   "metadata": {},
   "source": [
    "#### You can replace default values directly in the config_file (src/config/ftx_env.yaml) or at run-time as follows:"
   ]
  },
  {
   "cell_type": "code",
   "execution_count": null,
   "metadata": {},
   "outputs": [],
   "source": [
    "## edit the config_data:\n",
    "config_data[\"agents\"][\"trading_branch\"][\"attributes\"][\"money_ask\"] = 10000\n",
    "config_data[\"agents\"][\"trading_branch\"]"
   ]
  },
  {
   "cell_type": "code",
   "execution_count": null,
   "metadata": {},
   "outputs": [],
   "source": [
    "## edit using the simulation_builder (only implemented for attributes for now):\n",
    "simulation_builder.update_agent_details(\"trading_branch\", \"money_ask\", 150_000)\n",
    "config_data[\"agents\"][\"trading_branch\"]"
   ]
  },
  {
   "cell_type": "code",
   "execution_count": 45,
   "metadata": {},
   "outputs": [],
   "source": [
    "##################### OPTIONAL ############################ \n",
    "### update the results_dict if you want to keep track of the changes in this notebook\n",
    "results_dict[\"trading_branch_money_asked\"] = config_data[\"agents\"][\"trading_branch\"][\"attributes\"][\"money_ask\"]\n",
    "##################### OPTIONAL ############################ \n"
   ]
  },
  {
   "cell_type": "markdown",
   "metadata": {},
   "source": [
    "#### Note on agents: \n",
    "\n",
    "- 'CEO' is the only agent impersonated by a LLM \n",
    "\n",
    "- 'trading_branch' is a rule-based agents.\n",
    "\n",
    "- 'events' can be used to model some random events happening in the env \n"
   ]
  },
  {
   "cell_type": "code",
   "execution_count": null,
   "metadata": {},
   "outputs": [],
   "source": [
    "## The config contains also simulation parameters \n",
    "config_data[\"simulation_parameters\"]"
   ]
  },
  {
   "cell_type": "code",
   "execution_count": null,
   "metadata": {},
   "outputs": [],
   "source": [
    "\n",
    "# The number of simulation steps is given by end_date - start_date:\n",
    "\n",
    "start_date = pd.to_datetime(config_data[\"simulation_parameters\"][\"start_date\"])\n",
    "end_date = pd.to_datetime(config_data[\"simulation_parameters\"][\"end_date\"])\n",
    "\n",
    "simulation_days = pd.date_range(\n",
    "    start=start_date, end=end_date, freq=config_data[\"simulation_parameters\"][\"timestep\"])\n",
    "\n",
    "## just one step / one day by default\n",
    "print(simulation_days)        "
   ]
  },
  {
   "cell_type": "markdown",
   "metadata": {},
   "source": [
    "#### Each day the agents are executed accordinly the defined env:"
   ]
  },
  {
   "cell_type": "code",
   "execution_count": null,
   "metadata": {},
   "outputs": [],
   "source": [
    "config_data[\"simulation_parameters\"]['agent_order'] \n"
   ]
  },
  {
   "cell_type": "code",
   "execution_count": null,
   "metadata": {},
   "outputs": [],
   "source": [
    "## you can modify any of this as well:\n",
    "config_data[\"simulation_parameters\"]['seed'] = 1\n",
    "config_data[\"simulation_parameters\"]"
   ]
  },
  {
   "cell_type": "code",
   "execution_count": 50,
   "metadata": {},
   "outputs": [],
   "source": [
    "##################### OPTIONAL ############################ \n",
    "### update the results_dict if you want to keep track of the changes in this notebook\n",
    "results_dict[\"seed\"] = config_data[\"simulation_parameters\"]['seed']\n",
    "##################### OPTIONAL ############################ "
   ]
  },
  {
   "cell_type": "markdown",
   "metadata": {},
   "source": [
    "### Prompts for User and CEO \n",
    "\n",
    "#### Again, the simulation_builder loads the default parameters in the src/simconfig/llm_system_prompt.txt and src/simconfig/agent_prompts.json.\n",
    "\n"
   ]
  },
  {
   "cell_type": "code",
   "execution_count": null,
   "metadata": {},
   "outputs": [],
   "source": [
    "### Define for each Agent/Event and related action the prompt to use for the LLM, with related placeholders\n",
    "simulation_builder.users_prompt_data"
   ]
  },
  {
   "cell_type": "code",
   "execution_count": null,
   "metadata": {},
   "outputs": [],
   "source": [
    "### for example when the lender provide an extension for the loan: \n",
    "simulation_builder.users_prompt_data[\"Agents\"][\"TradingBranch\"][\"ask_money\"][\"placeholders\"]  \n",
    "### multiple values in the lists allows for different (random) prompts.\n"
   ]
  },
  {
   "cell_type": "code",
   "execution_count": null,
   "metadata": {},
   "outputs": [],
   "source": [
    "### we can change prompts as well or add values\n",
    "simulation_builder.users_prompt_data[\"Agents\"][\"TradingBranch\"][\"ask_money\"][\"placeholders\"].append(\"Give me some money, please!\")\n",
    "simulation_builder.users_prompt_data[\"Agents\"][\"TradingBranch\"][\"ask_money\"][\"placeholders\"]  \n"
   ]
  },
  {
   "cell_type": "markdown",
   "metadata": {},
   "source": [
    "#### The \"src/simconfig/llm_system_prompt.txt\" is the system prompt for the LLM, where several keywords can be replaced at run-time. Default values are in src/simconfig/base_config.py"
   ]
  },
  {
   "cell_type": "code",
   "execution_count": null,
   "metadata": {},
   "outputs": [],
   "source": [
    "simulation_builder.initial_prompt_ceo\n",
    "## there are placeholders like {ASSET_NAME}"
   ]
  },
  {
   "cell_type": "code",
   "execution_count": null,
   "metadata": {},
   "outputs": [],
   "source": [
    "### you can modifiy some informations in this template:\n",
    "from string import Formatter\n",
    "\n",
    "fieldnames = set([fname for _, fname, _, _ in Formatter().parse(simulation_builder.initial_prompt_ceo) if fname])\n",
    "fieldnames"
   ]
  },
  {
   "cell_type": "code",
   "execution_count": null,
   "metadata": {},
   "outputs": [],
   "source": [
    "### some defaults are given here:\n",
    "simulation_builder.pressure_variables"
   ]
  },
  {
   "cell_type": "code",
   "execution_count": null,
   "metadata": {},
   "outputs": [],
   "source": [
    "### you can modify them as follows:\n",
    "simulation_builder.update_ceo_initialisation_prompt(\"ASSET_NAME\", \"MY_COIN\")\n",
    "simulation_builder.pressure_variables"
   ]
  },
  {
   "cell_type": "code",
   "execution_count": null,
   "metadata": {},
   "outputs": [],
   "source": [
    "## or add directly new things to the intial_prompt as well \n",
    "simulation_builder.initial_prompt_ceo += \"{NEW_PLACEHOLDER}\"\n",
    "\n",
    "simulation_builder.update_ceo_initialisation_prompt(\"NEW_PLACEHOLDER\", \"You are the best CEO ever!\")\n",
    "simulation_builder.pressure_variables"
   ]
  },
  {
   "cell_type": "code",
   "execution_count": 59,
   "metadata": {},
   "outputs": [],
   "source": [
    "##################### OPTIONAL ############################ \n",
    "# again you can append some details here\n",
    "results_dict[\"ASSET_NAME\"] = \"MY-COIN\"\n",
    "##################### OPTIONAL ############################ "
   ]
  },
  {
   "cell_type": "markdown",
   "metadata": {},
   "source": [
    "## Select the LLM you want to use "
   ]
  },
  {
   "cell_type": "code",
   "execution_count": null,
   "metadata": {},
   "outputs": [],
   "source": [
    "## we currently support several llm models, you can extend the list you find here:\n",
    "base_config.MODELS_TYPE"
   ]
  },
  {
   "cell_type": "code",
   "execution_count": 61,
   "metadata": {},
   "outputs": [],
   "source": [
    "## and set the model you want to use in the CEO agent \n",
    "simulation_builder.update_agent_details(\"CEO\", \"llm_model\", \"o1-mini\")\n",
    "results_dict[\"llm_model\"] = \"o1-mini\" "
   ]
  },
  {
   "cell_type": "code",
   "execution_count": null,
   "metadata": {},
   "outputs": [],
   "source": [
    "simulation_builder.sim_config_data[\"agents\"][\"CEO\"]"
   ]
  },
  {
   "cell_type": "markdown",
   "metadata": {},
   "source": [
    "### Build the simulation"
   ]
  },
  {
   "cell_type": "code",
   "execution_count": null,
   "metadata": {},
   "outputs": [],
   "source": [
    "simulation = simulation_builder.build()"
   ]
  },
  {
   "cell_type": "markdown",
   "metadata": {},
   "source": [
    "### Run the simulation"
   ]
  },
  {
   "cell_type": "code",
   "execution_count": null,
   "metadata": {},
   "outputs": [],
   "source": [
    "simulation.run()"
   ]
  },
  {
   "cell_type": "markdown",
   "metadata": {},
   "source": [
    "## Save results"
   ]
  },
  {
   "cell_type": "code",
   "execution_count": 65,
   "metadata": {},
   "outputs": [],
   "source": [
    "##################### OPTIONAL ############################\n",
    "## we can track results of some actions for the users like the CEO \n",
    "for action in [\"evaluate_trader_request\"]: \n",
    "    outcomes = simulation.extract_informations(\"CEO\", action)\n",
    "    results_dict[action] = outcomes\n",
    "\n",
    "##################### OPTIONAL ############################"
   ]
  },
  {
   "cell_type": "code",
   "execution_count": null,
   "metadata": {},
   "outputs": [],
   "source": [
    "## save all data \n",
    "output_path = \"notebook_logs/\"\n",
    "os.makedirs(output_path, exist_ok=True)\n",
    "## we save logs and the configs \n",
    "simulation.close(output_path + \"simulation\")\n",
    "\n",
    "df = pd.DataFrame(results_dict, index=[0])\n",
    "df.to_csv(output_path + \"results.csv\", index=False)"
   ]
  },
  {
   "cell_type": "code",
   "execution_count": null,
   "metadata": {},
   "outputs": [],
   "source": [
    "df"
   ]
  },
  {
   "cell_type": "markdown",
   "metadata": {},
   "source": [
    "## Reset logger at the end of each simulation (I will move the logger inside the simulation object)"
   ]
  },
  {
   "cell_type": "code",
   "execution_count": 68,
   "metadata": {},
   "outputs": [],
   "source": [
    "from simulator.logging import reset_logger\n",
    "reset_logger()  "
   ]
  }
 ],
 "metadata": {
  "kernelspec": {
   "display_name": "align_release",
   "language": "python",
   "name": "python3"
  },
  "language_info": {
   "codemirror_mode": {
    "name": "ipython",
    "version": 3
   },
   "file_extension": ".py",
   "mimetype": "text/x-python",
   "name": "python",
   "nbconvert_exporter": "python",
   "pygments_lexer": "ipython3",
   "version": "3.11.10"
  }
 },
 "nbformat": 4,
 "nbformat_minor": 2
}
