{
 "cells": [
  {
   "cell_type": "markdown",
   "metadata": {},
   "source": [
    "# A notebook to analyse baseline Alignment and create related plots"
   ]
  },
  {
   "cell_type": "code",
   "execution_count": 33,
   "metadata": {},
   "outputs": [],
   "source": [
    "### imports \n",
    "import pandas as pd \n",
    "import seaborn as sns \n",
    "\n",
    "from matplotlib import pyplot as plt\n",
    "\n",
    "import plotly.express as px\n",
    "import plotly.graph_objects as go\n"
   ]
  },
  {
   "cell_type": "code",
   "execution_count": null,
   "metadata": {},
   "outputs": [],
   "source": [
    "import os\n",
    "cur_dir = os.getcwd() \n",
    "os.chdir(cur_dir.replace(\"notebooks\", \"\"))\n",
    "print(os.getcwd())"
   ]
  },
  {
   "cell_type": "code",
   "execution_count": null,
   "metadata": {},
   "outputs": [],
   "source": [
    "%load_ext autoreload\n",
    "%autoreload 2"
   ]
  },
  {
   "cell_type": "markdown",
   "metadata": {},
   "source": [
    "## Download data"
   ]
  },
  {
   "cell_type": "code",
   "execution_count": 58,
   "metadata": {},
   "outputs": [
    {
     "name": "stdout",
     "output_type": "stream",
     "text": [
      "zsh:1: command not found: wget\n"
     ]
    }
   ],
   "source": [
    "... download from dropbox ... "
   ]
  },
  {
   "cell_type": "markdown",
   "metadata": {},
   "source": [
    "## Load the data"
   ]
  },
  {
   "cell_type": "code",
   "execution_count": null,
   "metadata": {},
   "outputs": [],
   "source": [
    "## Load the data \n",
    "df = pd.read_csv(\"data/simulation_results/baseline_alignment.csv\") \n",
    "\n",
    "print(\"Columns:\", df.columns)\n",
    "\n",
    "## All model \n",
    "print(\"All models:\", df[\"model_\"].unique())"
   ]
  },
  {
   "cell_type": "markdown",
   "metadata": {},
   "source": [
    "## Functions to plot and visualise baseline dataframe"
   ]
  },
  {
   "cell_type": "code",
   "execution_count": 53,
   "metadata": {},
   "outputs": [],
   "source": [
    "def baseline_dataframe(df):\n",
    "    \"\"\" Plot the baseline dataframe misalignment \"\"\"\n",
    "    grouped_misal = df[[\"model_\", \"misal_\"]].groupby(['model_']).agg([\"mean\", \"sem\"]).reset_index()\n",
    "\n",
    "    # Sort by mean misalignment in descending order\n",
    "    grouped_misal = grouped_misal.sort_values(by=[('misal_', 'mean')], ascending=True)\n",
    "\n",
    "    # Rename columns for clarity\n",
    "    grouped_misal.columns = [\"model_\", \"Mean Misalignment\", \"Std Error\"]\n",
    "\n",
    "    # Style the DataFrame\n",
    "    styled_df = grouped_misal.style.format({\n",
    "        'Mean Misalignment': \"{:.2f}\",\n",
    "        'Std Error': \"{:.2f}\"\n",
    "    }).background_gradient(cmap='coolwarm', subset=[\"Mean Misalignment\"])\n",
    "\n",
    "    # Return the styled DataFrame so it can be rendered in a notebook\n",
    "    return styled_df\n",
    "\n",
    "\n",
    "def plot_baseline_misal(df):\n",
    "    \"\"\" Plot the baseline misalignment \"\"\"    \n",
    "    # Group and aggregate the data\n",
    "    grouped_misal = df[[\"model_\", \"misal_\"]].groupby(['model_']).agg([\"mean\", \"sem\"]).reset_index()\n",
    "    grouped_misal = grouped_misal.sort_values(by=[('misal_', 'mean')], ascending=True)\n",
    "    grouped_misal.columns = [\"model_\", \"Mean Misalignment\", \"Std Error\"]\n",
    "\n",
    "    # Display DataFrame in a more professional way with background gradient\n",
    "    styled_df = grouped_misal.style.format({\n",
    "        'Mean Misalignment': \"{:.2f}\",\n",
    "        'Std Error': \"{:.2f}\"\n",
    "    }).background_gradient(cmap='coolwarm', subset=[\"Mean Misalignment\"])\n",
    "\n",
    "    # Plotting\n",
    "    plt.figure(figsize=(8, 5))\n",
    "    plt.barh(grouped_misal['model_'], grouped_misal['Mean Misalignment'], \n",
    "            xerr=grouped_misal['Std Error'], color='green', ecolor='red', capsize=5)\n",
    "    plt.xlabel('Mean Misalignment')\n",
    "    plt.ylabel('Model')\n",
    "    plt.title('Model vs. Mean Misalignment with Error Bars')\n",
    "    plt.gca().invert_yaxis()  # Invert to display the highest values at the top\n",
    "    plt.tight_layout()\n",
    "\n",
    "    plt.show(), styled_df\n",
    "\n",
    "\n",
    "def plot_baseline_responses(df_temp):\n",
    "\n",
    "    grouped = df_temp.groupby(['model_'])\n",
    "    frequency = grouped['resp'].value_counts(normalize=True).unstack().fillna(0)\n",
    "    frequency = frequency.sort_values(by=[1], axis=0)\n",
    "\n",
    "    # Define a DataFrame for Plotly\n",
    "    frequency.reset_index(inplace=True)\n",
    "    frequency.columns = ['model_', 'Deny', 'Partial approve', 'Approve']\n",
    "\n",
    "    # Define a custom color palette: Green for Deny, Orange for Partial, Red for Approve\n",
    "    colors = ['#2ca02c', '#ff7f0e', '#d62728']\n",
    "\n",
    "    # Create traces manually for more control\n",
    "    fig = go.Figure()\n",
    "\n",
    "    # Add bars for each category with custom colors\n",
    "    fig.add_trace(go.Bar(\n",
    "        y=frequency['model_'],\n",
    "        x=frequency['Deny'],\n",
    "        orientation='h',\n",
    "        name='Deny',\n",
    "        marker=dict(color=colors[0]),\n",
    "        width=0.7\n",
    "    ))\n",
    "\n",
    "    fig.add_trace(go.Bar(\n",
    "        y=frequency['model_'],\n",
    "        x=frequency['Partial approve'],\n",
    "        orientation='h',\n",
    "        name='Partial approve',\n",
    "        marker=dict(color=colors[1]),\n",
    "        width=0.7\n",
    "    ))\n",
    "\n",
    "    fig.add_trace(go.Bar(\n",
    "        y=frequency['model_'],\n",
    "        x=frequency['Approve'],\n",
    "        orientation='h',\n",
    "        name='Approve',\n",
    "        marker=dict(color=colors[2]),\n",
    "        width=0.7\n",
    "    ))\n",
    "\n",
    "    # Update layout to enhance professionalism\n",
    "    fig.update_layout(\n",
    "        barmode='stack',  # stacked bars for easier comparison\n",
    "        xaxis=dict(\n",
    "            range=[0, 1],  # Limiting the x-axis to [0, 1]\n",
    "            showgrid=True,\n",
    "            gridcolor='lightgrey'\n",
    "        ),\n",
    "        yaxis=dict(\n",
    "            title='',  # No label for the y-axis\n",
    "            showgrid=False\n",
    "        ),\n",
    "        legend=dict(\n",
    "            title='',  # No title for the legend\n",
    "            orientation='h', \n",
    "            x=0.5, \n",
    "            y=-0.15, \n",
    "            xanchor='center',\n",
    "            font=dict(size=10)\n",
    "        ),\n",
    "        plot_bgcolor='white',  # Clean background\n",
    "        width=600,\n",
    "        height=400,\n",
    "        margin=dict(l=50, r=50, t=30, b=50),\n",
    "        title=dict(\n",
    "            text='Approval Frequency by Model',\n",
    "            x=0.5,\n",
    "            xanchor='center',\n",
    "            font=dict(size=16, color='black')\n",
    "        )\n",
    "    )\n",
    "\n",
    "    # Add custom y-axis tick labels\n",
    "    fig.update_yaxes(tickangle=0)\n",
    "    ## show \n",
    "    fig.show()\n",
    "   \n"
   ]
  },
  {
   "cell_type": "markdown",
   "metadata": {},
   "source": [
    "## Filter our data and plot results "
   ]
  },
  {
   "cell_type": "code",
   "execution_count": null,
   "metadata": {},
   "outputs": [],
   "source": [
    "temperature = 1 \n",
    "tmp_df = df[df.temp_ == temperature]\n",
    "\n",
    "## dataframe\n",
    "baseline_dataframe(tmp_df)"
   ]
  },
  {
   "cell_type": "code",
   "execution_count": null,
   "metadata": {},
   "outputs": [],
   "source": [
    "plot_baseline_responses(df)"
   ]
  },
  {
   "cell_type": "code",
   "execution_count": null,
   "metadata": {},
   "outputs": [],
   "source": [
    "## plot\n",
    "plot_baseline_misal(tmp_df)"
   ]
  }
 ],
 "metadata": {
  "kernelspec": {
   "display_name": "ai_align",
   "language": "python",
   "name": "python3"
  },
  "language_info": {
   "codemirror_mode": {
    "name": "ipython",
    "version": 3
   },
   "file_extension": ".py",
   "mimetype": "text/x-python",
   "name": "python",
   "nbconvert_exporter": "python",
   "pygments_lexer": "ipython3",
   "version": "3.11.9"
  }
 },
 "nbformat": 4,
 "nbformat_minor": 2
}
